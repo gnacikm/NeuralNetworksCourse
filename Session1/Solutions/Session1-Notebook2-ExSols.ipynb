{
  "nbformat": 4,
  "nbformat_minor": 0,
  "metadata": {
    "colab": {
      "name": "Session1-Notebook2-ExSols.ipynb",
      "provenance": [],
      "collapsed_sections": []
    },
    "kernelspec": {
      "name": "python3",
      "display_name": "Python 3"
    },
    "language_info": {
      "name": "python"
    }
  },
  "cells": [
    {
      "cell_type": "markdown",
      "source": [
        "# Neural Networks - Exercises to Theory 1"
      ],
      "metadata": {
        "id": "-tcdrr28Ij-D"
      }
    },
    {
      "cell_type": "markdown",
      "source": [
        "# Importing Packages"
      ],
      "metadata": {
        "id": "X_GBIZNTKFfO"
      }
    },
    {
      "cell_type": "code",
      "source": [
        "%tensorflow_version 2.x\n",
        "import tensorflow as tf"
      ],
      "metadata": {
        "id": "aDyjXejXJ7aq"
      },
      "execution_count": null,
      "outputs": []
    },
    {
      "cell_type": "code",
      "source": [
        "import numpy as np\n",
        "import numpy.typing as npt\n",
        "import matplotlib.pyplot as plt\n",
        "from typing import Mapping, List"
      ],
      "metadata": {
        "id": "TekOqiIdKNI7"
      },
      "execution_count": null,
      "outputs": []
    },
    {
      "cell_type": "markdown",
      "source": [
        "# Perceptron"
      ],
      "metadata": {
        "id": "CRpATRUtdEZ_"
      }
    },
    {
      "cell_type": "markdown",
      "source": [
        "## Exercise 1.1 \n",
        "\n",
        "Define the sigmoid function $\\sigma(z) = \\frac{1}{1+e^{-z}}$ and find the class (label) of the point \n",
        "$$\\vec{x} = [0.5, 1.4, 2.0],$$ \n",
        "that is produced (as the output) by the perceptron model with the weights and bias\n",
        "$$ \\vec{w} = [0.4, 0.3, 0.2], \\ \\ w_0 = 1.5$$\n",
        "\n",
        "Recall that the sigmoid function returns a probability. "
      ],
      "metadata": {
        "id": "GvWP4w6OSTbF"
      }
    },
    {
      "cell_type": "code",
      "source": [
        "def perceptron(\n",
        "    x_vals: npt.ArrayLike,\n",
        "    weights: npt.ArrayLike,\n",
        "    bias: float, \n",
        "    activation_function: Mapping[float, int] \n",
        "    ) -> int:\n",
        "    y = activation_function(np.dot(x_vals, weights) + bias)\n",
        "    return y"
      ],
      "metadata": {
        "id": "O0431r0uTceG"
      },
      "execution_count": null,
      "outputs": []
    },
    {
      "cell_type": "code",
      "source": [
        "sigmoid = lambda z: 1/(1+np.exp(-z))\n",
        "bias = 1.5\n",
        "x_vals = np.array([0.5, -1.4, 2.0])\n",
        "weights = np.array([0.4, 0.3, 0.2])\n",
        "\n",
        "output = perceptron(x_vals, weights, bias, sigmoid)\n",
        "if output>=0.5:\n",
        "    print(\"class 1\")\n",
        "else:\n",
        "    print(\"class 0\")"
      ],
      "metadata": {
        "colab": {
          "base_uri": "https://localhost:8080/"
        },
        "id": "FuPSRKzrrrL1",
        "outputId": "4015d6b1-5a7c-481c-bba1-1cf5f8323f9b"
      },
      "execution_count": null,
      "outputs": [
        {
          "output_type": "stream",
          "name": "stdout",
          "text": [
            "class 1\n"
          ]
        }
      ]
    },
    {
      "cell_type": "markdown",
      "source": [
        "# Training and Test Data Sets"
      ],
      "metadata": {
        "id": "WlMjBX3zdHYJ"
      }
    },
    {
      "cell_type": "markdown",
      "source": [
        "## Exercise 1.2\n",
        "\n",
        "Plot one feature of the ``tf.keras.datasets.boston_housing`` train data set against the corresponding target value. \n",
        "\n",
        "Use a scatter plot. "
      ],
      "metadata": {
        "id": "asP60_4PT3xr"
      }
    },
    {
      "cell_type": "code",
      "source": [
        "(x_train, y_train), (x_test, y_test) = tf.keras.datasets.boston_housing.load_data(\n",
        "    path=\"boston_housing.npz\",\n",
        "    test_split=0.2\n",
        "    )"
      ],
      "metadata": {
        "colab": {
          "base_uri": "https://localhost:8080/"
        },
        "id": "wgGlpMoosgGW",
        "outputId": "3b713ee3-ae73-4cea-d74d-02ee390434a1"
      },
      "execution_count": null,
      "outputs": [
        {
          "output_type": "stream",
          "name": "stdout",
          "text": [
            "Downloading data from https://storage.googleapis.com/tensorflow/tf-keras-datasets/boston_housing.npz\n",
            "57344/57026 [==============================] - 0s 0us/step\n",
            "65536/57026 [==================================] - 0s 0us/step\n"
          ]
        }
      ]
    },
    {
      "cell_type": "code",
      "source": [
        "plt.scatter(x_train[:, 12], y_train)\n",
        "plt.show()"
      ],
      "metadata": {
        "colab": {
          "base_uri": "https://localhost:8080/",
          "height": 265
        },
        "id": "DtYsjL-GUIEI",
        "outputId": "7e4cfa46-859d-488b-a63d-ff27df5dcde1"
      },
      "execution_count": null,
      "outputs": [
        {
          "output_type": "display_data",
          "data": {
            "text/plain": [
              "<Figure size 432x288 with 1 Axes>"
            ],
            "image/png": "[encoded data removed]"
          },
          "metadata": {
            "needs_background": "light"
          }
        }
      ]
    },
    {
      "cell_type": "markdown",
      "source": [
        "# Linear and Non_linear models"
      ],
      "metadata": {
        "id": "RzfRrl7EdWbP"
      }
    },
    {
      "cell_type": "markdown",
      "source": [
        "## Exercise 1.3\n",
        "\n",
        "Define the XOR function in a Lambda (anonymous) Python function syntax "
      ],
      "metadata": {
        "id": "1hXk2ahmUtL8"
      }
    },
    {
      "cell_type": "code",
      "source": [
        "XOR = lambda x1, x2: 0 if x1==x2 else 1\n",
        "\n",
        "print(XOR(1, 1))\n",
        "print(XOR(0, 0))\n",
        "print(XOR(1, 0))\n",
        "print(XOR(0, 1))"
      ],
      "metadata": {
        "id": "qec1s3xDU0xi",
        "colab": {
          "base_uri": "https://localhost:8080/"
        },
        "outputId": "858164ce-270f-4098-e885-f078ae2457f1"
      },
      "execution_count": null,
      "outputs": [
        {
          "output_type": "stream",
          "name": "stdout",
          "text": [
            "0\n",
            "0\n",
            "1\n",
            "1\n"
          ]
        }
      ]
    },
    {
      "cell_type": "markdown",
      "source": [
        "# Building an artificial brain - Multilayer Perceptron (MLP)"
      ],
      "metadata": {
        "id": "LDEGFdBBdbox"
      }
    },
    {
      "cell_type": "markdown",
      "source": [
        "## Exercise 1.4\n",
        "\n",
        "Construct a Multilayer perceptron with any number of hidden layers. \n",
        "\n",
        "Your function should have the following inputs:\n",
        "\n",
        "- ``x_vals: npt.ArrayLike, `` - input values;\n",
        "- ``params_layers: List[List[npt.ArrayLike]]``, - weights and biases in all the layers\n",
        "- ``sigma: Mapping[float, float]``, - activation function of hidden layers\n",
        "- ``sigma_out: Mapping[float, float]`` - output activation function. \n",
        "\n",
        "Note that that in the corresponding example the params_layers would have the form\n",
        "``params_layer = [params_layer1, params_layer2]``\n",
        "\n",
        "Check if your function produces the right output from the example from the corresponding theory section. \n"
      ],
      "metadata": {
        "id": "G-zbJTJQVEl9"
      }
    },
    {
      "cell_type": "code",
      "source": [
        "def mlp(\n",
        "    x_vals: npt.ArrayLike,\n",
        "    params_layers: List[List[npt.ArrayLike]],\n",
        "    sigma: Mapping[float, float],\n",
        "    sigma_out: Mapping[float, float],\n",
        "    ) -> npt.ArrayLike:\n",
        "    z = x_vals[:]\n",
        "    for W, b in params_layers[:-1]:\n",
        "        z = sigma(W.T@z + b)\n",
        "    W_out, b_out = params_layers[-1]\n",
        "    y = sigma_out(W_out.T@z + b_out)\n",
        "    return y"
      ],
      "metadata": {
        "id": "saE28rCEWIP7"
      },
      "execution_count": null,
      "outputs": []
    },
    {
      "cell_type": "code",
      "source": [
        "x_vals = np.array([2., -1.])\n",
        "W1 = np.array([[0.2, 0.3, 0.46], [0.2, 0.65, 0.27]])\n",
        "W2 = np.array([[0.27], [0.3], [0.05]])\n",
        "b1 = np.zeros(3)\n",
        "b2 = np.zeros(1)\n",
        "params_layer1 = [W1, b1]\n",
        "params_layer2 = [W2, b2]\n",
        "params_layer = [params_layer1, params_layer2]\n",
        "sigma = lambda a: np.maximum(0, a)\n",
        "sigma_out = lambda a: 1/(1+np.exp(-a))"
      ],
      "metadata": {
        "id": "zNHzlaD4X6pq"
      },
      "execution_count": null,
      "outputs": []
    },
    {
      "cell_type": "code",
      "source": [
        "mlp(x_vals, params_layer, sigma, sigma_out)"
      ],
      "metadata": {
        "colab": {
          "base_uri": "https://localhost:8080/"
        },
        "id": "3Boej_iGWsEW",
        "outputId": "3e406356-aabc-4b05-c984-0e4b9ee733d4"
      },
      "execution_count": null,
      "outputs": [
        {
          "output_type": "execute_result",
          "data": {
            "text/plain": [
              "array([0.52161153])"
            ]
          },
          "metadata": {},
          "execution_count": 233
        }
      ]
    },
    {
      "cell_type": "markdown",
      "source": [
        "# How to implement the network in TensorFlow and Keras"
      ],
      "metadata": {
        "id": "TAjmxiGKdgsa"
      }
    },
    {
      "cell_type": "markdown",
      "source": [
        "## Exercise 1.5\n",
        "\n",
        "Define a Sequential model that has the following architecture \n"
      ],
      "metadata": {
        "id": "SV0-snDhZGD1"
      }
    },
    {
      "cell_type": "markdown",
      "source": [
        "![image.png](data:image/png;base64,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)"
      ],
      "metadata": {
        "id": "pIAAaEe_zgIz"
      }
    },
    {
      "cell_type": "markdown",
      "source": [
        "and the following weights and biases to the model\n",
        "\n",
        "$$\n",
        "W^{(1)} = \\left[\\begin{array}{ccc} 1.0 & 1.0 \\\\  1.0 & 1.0  \\end{array} \\right], \n",
        "W^{(2)} = \\left[\\begin{array}{c}1. \\\\ -2.  \\end{array} \\right],\n",
        " \\vec{b}^{(1)} =  \\left[\\begin{array}{ccc} 0 \\\\ -1 \\end{array}\\right],\\ \n",
        "\\vec{b}^{(2)} = 0\n",
        "$$\n",
        "- The hidden activation function is ReLu, that is, $\\sigma_1(a) = \\max\\{0, a\\}$\n",
        "- The output activation function is linear (identity). \n",
        "\n",
        "\n",
        "Show that this model reproduces the XOR function. "
      ],
      "metadata": {
        "id": "DpXfhKqozjE6"
      }
    },
    {
      "cell_type": "code",
      "source": [
        "W1 = np.array([[1., 1.], [1., 1.]])\n",
        "W2 = np.array([[1], [-2]])\n",
        "b1 = np.array([0, -1])\n",
        "b2 = np.zeros(1)\n",
        "params_layer1 = [W1, b1]\n",
        "params_layer2 = [W2, b2]\n",
        "parameters =  params_layer1 + params_layer2"
      ],
      "metadata": {
        "id": "bXQ1FrJ8ZqtQ"
      },
      "execution_count": null,
      "outputs": []
    },
    {
      "cell_type": "code",
      "source": [
        "mlp_model = tf.keras.Sequential(name=\"SimpleMLP\")\n",
        "mlp_model.add(tf.keras.layers.InputLayer(input_shape=(2), name=\"input\"))\n",
        "mlp_model.add(tf.keras.layers.Dense(units=2, activation=\"relu\", name=\"hidden1\"))\n",
        "mlp_model.add(tf.keras.layers.Dense(units=1, activation=\"linear\", name=\"output\"))\n",
        "mlp_model.set_weights(parameters)"
      ],
      "metadata": {
        "id": "iiXfNjlwtI_j"
      },
      "execution_count": null,
      "outputs": []
    },
    {
      "cell_type": "code",
      "source": [
        "x_vals = [[0, 0], [1, 1], [1, 0], [0, 1]]\n",
        "\n",
        "mlp_model.predict(x_vals)"
      ],
      "metadata": {
        "colab": {
          "base_uri": "https://localhost:8080/"
        },
        "id": "soN1KojixDi3",
        "outputId": "7aca4856-93a6-4d70-ff6c-c1e05c527eb3"
      },
      "execution_count": null,
      "outputs": [
        {
          "output_type": "execute_result",
          "data": {
            "text/plain": [
              "array([[0.],\n",
              "       [0.],\n",
              "       [1.],\n",
              "       [1.]], dtype=float32)"
            ]
          },
          "metadata": {},
          "execution_count": 17
        }
      ]
    },
    {
      "cell_type": "markdown",
      "source": [
        "# Training procedure"
      ],
      "metadata": {
        "id": "vJcAUIuzel06"
      }
    },
    {
      "cell_type": "markdown",
      "source": [
        "## Exercise 1.6\n",
        "\n",
        "Apply gradient descent method so that it finds the minimum of the function \n",
        "$$E( \\vec{w}) = \\sin(w_1) + \\cos(w_2),$$\n",
        "where $\\vec{w} = [w_1, w_2]$. \n",
        "The initial point is $\\vec{w}_0 = [1, 2]$.\n",
        "\n",
        "You have to select the right learning rate and the number of iterations. "
      ],
      "metadata": {
        "id": "qRg4ktGHenMN"
      }
    },
    {
      "cell_type": "code",
      "source": [
        "def grad_descent(dE, w0, n, eta):\n",
        "    wn = w0\n",
        "    history = [wn]\n",
        "    for _ in range(1, n):\n",
        "        wn = wn - eta*dE(wn)\n",
        "        history.append(wn)\n",
        "    return history"
      ],
      "metadata": {
        "id": "3EyvNoU1empM"
      },
      "execution_count": null,
      "outputs": []
    },
    {
      "cell_type": "code",
      "source": [
        "E = lambda w: np.sin(w[0]) + np.cos(w[1])\n",
        "dE1 = lambda x: np.cos(x)\n",
        "dE2 = lambda x: -np.sin(x)\n",
        "dE =  lambda w: np.array([dE1(w[0]), dE2(w[1])])\n",
        "\n",
        "eta = 0.1\n",
        "w0 = [1, 2]\n",
        "n = 100\n",
        "vals = grad_descent(dE, w0, n, eta)\n",
        "E(vals[-1])"
      ],
      "metadata": {
        "id": "wRaNrnmAgTxm",
        "colab": {
          "base_uri": "https://localhost:8080/"
        },
        "outputId": "e3e26b05-a8c5-4461-fc9d-66a5188686d9"
      },
      "execution_count": null,
      "outputs": [
        {
          "output_type": "execute_result",
          "data": {
            "text/plain": [
              "-1.9999999726445419"
            ]
          },
          "metadata": {},
          "execution_count": 19
        }
      ]
    },
    {
      "cell_type": "code",
      "source": [
        ""
      ],
      "metadata": {
        "id": "WG1CrEvItPlU"
      },
      "execution_count": null,
      "outputs": []
    }
  ]
}